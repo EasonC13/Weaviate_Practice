{
 "cells": [
  {
   "cell_type": "code",
   "execution_count": 3,
   "id": "31fda2e9",
   "metadata": {},
   "outputs": [],
   "source": [
    "import weaviate\n",
    "\n",
    "client = weaviate.Client(\"http://localhost:8080\")\n"
   ]
  },
  {
   "cell_type": "code",
   "execution_count": 4,
   "id": "f007fb67",
   "metadata": {},
   "outputs": [
    {
     "data": {
      "text/plain": [
       "True"
      ]
     },
     "execution_count": 4,
     "metadata": {},
     "output_type": "execute_result"
    }
   ],
   "source": [
    "client.is_ready()"
   ]
  },
  {
   "cell_type": "code",
   "execution_count": 7,
   "id": "c9b962a7",
   "metadata": {},
   "outputs": [
    {
     "name": "stderr",
     "output_type": "stream",
     "text": [
      "[nltk_data] Downloading package punkt to /home/eason/nltk_data...\n",
      "[nltk_data]   Unzipping tokenizers/punkt.zip.\n"
     ]
    },
    {
     "data": {
      "text/plain": [
       "True"
      ]
     },
     "execution_count": 7,
     "metadata": {},
     "output_type": "execute_result"
    }
   ],
   "source": [
    "import nltk # it is a dependency of newspaper3k\n",
    "nltk.download('punkt')"
   ]
  },
  {
   "cell_type": "code",
   "execution_count": 8,
   "id": "03c3f353",
   "metadata": {},
   "outputs": [
    {
     "name": "stderr",
     "output_type": "stream",
     "text": [
      "https://www.theguardian.com/international: 100%|████████████████████████| 100/100 [00:43<00:00,  2.32it/s]\n",
      "http://cnn.com: 100%|███████████████████████████████████████████████████| 100/100 [03:41<00:00,  2.22s/it]\n"
     ]
    }
   ],
   "source": [
    "import newspaper\n",
    "import uuid\n",
    "import json\n",
    "from tqdm import tqdm\n",
    "\n",
    "def get_articles_from_newspaper(\n",
    "        news_url: str, \n",
    "        max_articles: int=100\n",
    "    ) -> None:\n",
    "    \"\"\"\n",
    "    Download and save newspaper articles as weaviate schemas.\n",
    "    Parameters\n",
    "    ----------\n",
    "    newspaper_url : str\n",
    "        Newspaper title.\n",
    "    \"\"\"\n",
    "    \n",
    "    objects = []\n",
    "    \n",
    "    # Build the actual newspaper    \n",
    "    news_builder = newspaper.build(news_url, memoize_articles=False)\n",
    "    \n",
    "    if max_articles > news_builder.size():\n",
    "        max_articles = news_builder.size()\n",
    "    pbar = tqdm(total=max_articles)\n",
    "    pbar.set_description(f\"{news_url}\")\n",
    "    i = 0\n",
    "    while len(objects) < max_articles and i < news_builder.size():\n",
    "        article = news_builder.articles[i]\n",
    "        try:\n",
    "            article.download()\n",
    "            article.parse()\n",
    "            article.nlp()\n",
    "\n",
    "            if (article.title != '' and \\\n",
    "                article.title is not None and \\\n",
    "                article.summary != '' and \\\n",
    "                article.summary is not None and\\\n",
    "                article.authors):\n",
    "\n",
    "                # create an UUID for the article using its URL\n",
    "                article_id = uuid.uuid3(uuid.NAMESPACE_DNS, article.url)\n",
    "\n",
    "                # create the object\n",
    "                objects.append({\n",
    "                    'id': str(article_id),\n",
    "                    'title': article.title,\n",
    "                    'summary': article.summary,\n",
    "                    'authors': article.authors\n",
    "                })\n",
    "                \n",
    "                pbar.update(1)\n",
    "\n",
    "        except:\n",
    "            # something went wrong with getting the article, ignore it\n",
    "            pass\n",
    "        i += 1\n",
    "    pbar.close()\n",
    "    return objects\n",
    "data = []\n",
    "data += get_articles_from_newspaper('https://www.theguardian.com/international')\n",
    "data += get_articles_from_newspaper('http://cnn.com')"
   ]
  },
  {
   "cell_type": "code",
   "execution_count": 45,
   "id": "256029d2",
   "metadata": {},
   "outputs": [],
   "source": [
    "article_class_schema = {\n",
    "    # name of the class\n",
    "    \"class\": \"Article\",\n",
    "    # a description of what this class represents\n",
    "    \"description\": \"An Article class to store the article summary and its authors\",\n",
    "    # class properties\n",
    "    \"properties\": [\n",
    "        {\n",
    "            \"name\": \"title\",\n",
    "            \"dataType\": [\"string\"],\n",
    "            \"description\": \"The title of the article\", \n",
    "        },\n",
    "        {\n",
    "            \"name\": \"summary\",\n",
    "            \"dataType\": [\"text\"],\n",
    "            \"description\": \"The summary of the article\",\n",
    "        },\n",
    "        {\n",
    "            \"name\": \"hasAuthors\",\n",
    "            \"dataType\": [\"Author\"],\n",
    "            \"description\": \"The authors this article has\",\n",
    "        }\n",
    "    ]\n",
    "}"
   ]
  },
  {
   "cell_type": "code",
   "execution_count": 46,
   "id": "9c064ce1",
   "metadata": {},
   "outputs": [],
   "source": [
    "author_class_schema = {\n",
    "    \"class\": \"Author\",\n",
    "    \"description\": \"An Author class to store the author information\",\n",
    "    \"properties\": [\n",
    "        {\n",
    "            \"name\": \"name\",\n",
    "            \"dataType\": [\"string\"],\n",
    "            \"description\": \"The name of the author\", \n",
    "        },\n",
    "        {\n",
    "            \"name\": \"wroteArticles\",\n",
    "            \"dataType\": [\"Article\"],\n",
    "            \"description\": \"The articles of the author\", \n",
    "        }\n",
    "    ]\n",
    "}"
   ]
  },
  {
   "cell_type": "code",
   "execution_count": 51,
   "id": "208cda38",
   "metadata": {},
   "outputs": [],
   "source": [
    "client.schema.delete_all()"
   ]
  },
  {
   "cell_type": "code",
   "execution_count": 52,
   "id": "74e10436",
   "metadata": {},
   "outputs": [],
   "source": [
    "client.schema.create({'classes': [\n",
    "    author_class_schema, article_class_schema \n",
    "]})"
   ]
  },
  {
   "cell_type": "code",
   "execution_count": 53,
   "id": "6e6d3f2b",
   "metadata": {},
   "outputs": [],
   "source": [
    "def prettify(json_dict): \n",
    "    print(json.dumps(json_dict, indent=2))"
   ]
  },
  {
   "cell_type": "code",
   "execution_count": 56,
   "id": "bc6ef6ae",
   "metadata": {},
   "outputs": [
    {
     "data": {
      "text/plain": [
       "{'id': '32195ed2-252b-3bf4-8b9f-b0abe19537d6',\n",
       " 'title': 'Maxwell prosecutors: ‘sexualized’ photo of young girl displayed outside Epstein bedroom',\n",
       " 'summary': 'The prosecution also revealed that “sexually suggestive photograph of a very young girl” was displayed outside Epstein’s bedroom at his Palm Beach mansion.\\nA green foldable massage table is displayed in court during the Ghislaine Maxwell trial.\\nOne depicted a young girl pulling down her underwear, exposing her buttocks.\\nAn image depicted a young girl on Epstein’s lap.\\n“In order to get into that room, you have to get by a sexually suggestive photograph of a very young girl,” the prosecution said.',\n",
       " 'authors': ['Victoria Bekiempis']}"
      ]
     },
     "execution_count": 56,
     "metadata": {},
     "output_type": "execute_result"
    }
   ],
   "source": [
    "data[0]"
   ]
  },
  {
   "cell_type": "code",
   "execution_count": 57,
   "id": "17dad5a4",
   "metadata": {},
   "outputs": [],
   "source": [
    "article_object = {\n",
    "    'title': data[0]['title'],\n",
    "    'summary': data[0]['summary'].replace('\\n', '') # remove newline character\n",
    "    # we leave out the `hasAuthors` because it is a reference and will be created after we create the Authors\n",
    "}\n",
    "article_id = data[0]['id']\n",
    "\n",
    "# validated the object\n",
    "result = client.data_object.validate(\n",
    "    data_object=article_object,\n",
    "    class_name='Article',\n",
    "    uuid=article_id\n",
    ")"
   ]
  },
  {
   "cell_type": "code",
   "execution_count": 58,
   "id": "f105f2d7",
   "metadata": {},
   "outputs": [
    {
     "data": {
      "text/plain": [
       "{'error': None, 'valid': True}"
      ]
     },
     "execution_count": 58,
     "metadata": {},
     "output_type": "execute_result"
    }
   ],
   "source": [
    "result"
   ]
  },
  {
   "cell_type": "code",
   "execution_count": 61,
   "id": "bd4be222",
   "metadata": {},
   "outputs": [
    {
     "ename": "UnexpectedStatusCodeException",
     "evalue": "Creating object! Unexpected status code: 500, with response body: {'error': [{'message': 'fail with status 500: CUDA error: no kernel image is available for execution on the device'}]}",
     "output_type": "error",
     "traceback": [
      "\u001b[0;31m---------------------------------------------------------------------------\u001b[0m",
      "\u001b[0;31mUnexpectedStatusCodeException\u001b[0m             Traceback (most recent call last)",
      "\u001b[0;32m/tmp/ipykernel_2416317/813381344.py\u001b[0m in \u001b[0;36m<module>\u001b[0;34m\u001b[0m\n\u001b[1;32m      1\u001b[0m \u001b[0;31m# create the object\u001b[0m\u001b[0;34m\u001b[0m\u001b[0;34m\u001b[0m\u001b[0m\n\u001b[0;32m----> 2\u001b[0;31m client.data_object.create(\n\u001b[0m\u001b[1;32m      3\u001b[0m     \u001b[0mdata_object\u001b[0m\u001b[0;34m=\u001b[0m\u001b[0marticle_object\u001b[0m\u001b[0;34m,\u001b[0m\u001b[0;34m\u001b[0m\u001b[0;34m\u001b[0m\u001b[0m\n\u001b[1;32m      4\u001b[0m     \u001b[0mclass_name\u001b[0m\u001b[0;34m=\u001b[0m\u001b[0;34m'Article'\u001b[0m\u001b[0;34m,\u001b[0m\u001b[0;34m\u001b[0m\u001b[0;34m\u001b[0m\u001b[0m\n\u001b[1;32m      5\u001b[0m     \u001b[0muuid\u001b[0m\u001b[0;34m=\u001b[0m\u001b[0marticle_id\u001b[0m \u001b[0;31m# if not specified, weaviate is going to create an UUID for you.\u001b[0m\u001b[0;34m\u001b[0m\u001b[0;34m\u001b[0m\u001b[0m\n",
      "\u001b[0;32m~/anaconda3/lib/python3.9/site-packages/weaviate/data/crud_data.py\u001b[0m in \u001b[0;36mcreate\u001b[0;34m(self, data_object, class_name, uuid, vector)\u001b[0m\n\u001b[1;32m    138\u001b[0m         \u001b[0;32mif\u001b[0m \u001b[0mobject_does_already_exist\u001b[0m\u001b[0;34m:\u001b[0m\u001b[0;34m\u001b[0m\u001b[0;34m\u001b[0m\u001b[0m\n\u001b[1;32m    139\u001b[0m             \u001b[0;32mraise\u001b[0m \u001b[0mObjectAlreadyExistsException\u001b[0m\u001b[0;34m(\u001b[0m\u001b[0mstr\u001b[0m\u001b[0;34m(\u001b[0m\u001b[0muuid\u001b[0m\u001b[0;34m)\u001b[0m\u001b[0;34m)\u001b[0m\u001b[0;34m\u001b[0m\u001b[0;34m\u001b[0m\u001b[0m\n\u001b[0;32m--> 140\u001b[0;31m         \u001b[0;32mraise\u001b[0m \u001b[0mUnexpectedStatusCodeException\u001b[0m\u001b[0;34m(\u001b[0m\u001b[0;34m\"Creating object\"\u001b[0m\u001b[0;34m,\u001b[0m \u001b[0mresponse\u001b[0m\u001b[0;34m)\u001b[0m\u001b[0;34m\u001b[0m\u001b[0;34m\u001b[0m\u001b[0m\n\u001b[0m\u001b[1;32m    141\u001b[0m \u001b[0;34m\u001b[0m\u001b[0m\n\u001b[1;32m    142\u001b[0m     def update(self,\n",
      "\u001b[0;31mUnexpectedStatusCodeException\u001b[0m: Creating object! Unexpected status code: 500, with response body: {'error': [{'message': 'fail with status 500: CUDA error: no kernel image is available for execution on the device'}]}"
     ]
    }
   ],
   "source": [
    "# create the object\n",
    "client.data_object.create(\n",
    "    data_object=article_object,\n",
    "    class_name='Article',\n",
    "    uuid=article_id # if not specified, weaviate is going to create an UUID for you.\n",
    ")"
   ]
  },
  {
   "cell_type": "code",
   "execution_count": null,
   "id": "019e3e33",
   "metadata": {},
   "outputs": [],
   "source": []
  }
 ],
 "metadata": {
  "kernelspec": {
   "display_name": "Python 3 (ipykernel)",
   "language": "python",
   "name": "python3"
  },
  "language_info": {
   "codemirror_mode": {
    "name": "ipython",
    "version": 3
   },
   "file_extension": ".py",
   "mimetype": "text/x-python",
   "name": "python",
   "nbconvert_exporter": "python",
   "pygments_lexer": "ipython3",
   "version": "3.9.7"
  }
 },
 "nbformat": 4,
 "nbformat_minor": 5
}
